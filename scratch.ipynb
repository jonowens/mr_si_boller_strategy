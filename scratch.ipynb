{
 "metadata": {
  "language_info": {
   "codemirror_mode": {
    "name": "ipython",
    "version": 3
   },
   "file_extension": ".py",
   "mimetype": "text/x-python",
   "name": "python",
   "nbconvert_exporter": "python",
   "pygments_lexer": "ipython3",
   "version": "3.7.7-final"
  },
  "orig_nbformat": 2,
  "kernelspec": {
   "name": "python3",
   "display_name": "Python 3.7.7 64-bit ('alpacaenv': conda)",
   "metadata": {
    "interpreter": {
     "hash": "6a6a73cfb8d5d2b61b0375d533efbc3906bb01b2f10ea48f8a8d12f081066e28"
    }
   }
  }
 },
 "nbformat": 4,
 "nbformat_minor": 2,
 "cells": [
  {
   "source": [
    "# Boller Mr. Si Strategy\n",
    "(Bollinger Bands, MACD, and RSI Strategy) Designed to pay the bills\n"
   ],
   "cell_type": "markdown",
   "metadata": {}
  },
  {
   "cell_type": "code",
   "execution_count": null,
   "metadata": {},
   "outputs": [],
   "source": [
    "import pandas as pd\n",
    "from stockstats import StockDataFrame as Sdf\n",
    "from libs import connections\n",
    "\n",
    "# Instantiate connection\n",
    "trader = connections.alpaca_trading_connection()\n",
    "# Asset ticker\n",
    "symbol = 'GOOG'\n",
    "# Date range of historical data\n",
    "start_date = pd.Timestamp(\"2020-09-01\", tz=\"America/New_York\").isoformat()\n",
    "end_date = pd.Timestamp(\"2020-11-17\", tz=\"America/New_York\").isoformat()\n",
    "# Capture profit and loss\n",
    "pnl = []\n",
    "buy_price = 0\n",
    "sell_price = 0\n",
    "\n",
    "# Get ticker data\n",
    "stock_df = trader.get_asset_history(symbol, '1D', 500, start_date, end_date).df\n",
    "# Sort columns for stockdataframe\n",
    "data = stock_df[symbol][['open', 'close', 'high', 'low', 'volume']]\n",
    "\n",
    "# Change from pandas dataframe to stockdataframe\n",
    "stock  = Sdf.retype(data)\n",
    "\n",
    "# Signal line\n",
    "signal = stock['macds']\n",
    "\n",
    "# The MACD that need to cross the signal line to give you a Buy/Sell signal\n",
    "macd   = stock['macd']\n",
    "\n",
    "# Since you need at least two days in the for loop\n",
    "listLongShort = [\"No data\"]\n",
    "\n",
    "for i in range(1, len(signal)):\n",
    "    # If the MACD crosses the signal line upward\n",
    "    if macd[i] > signal[i] and macd[i - 1] <= signal[i - 1]:\n",
    "        listLongShort.append(\"BUY\")\n",
    "        buy_price = stock['close'][i]\n",
    "    # The other way around\n",
    "    elif macd[i] < signal[i] and macd[i - 1] >= signal[i - 1]:\n",
    "        listLongShort.append(\"SELL\")\n",
    "        # Calculate profit or loss and capture\n",
    "        sell_price = stock['close'][i]\n",
    "        if (buy_price != 0):\n",
    "            pnl.append(sell_price - buy_price)\n",
    "    # Do nothing if not crossed\n",
    "    else:\n",
    "        listLongShort.append(\"HOLD\")\n",
    "\n",
    "stock['Advice'] = listLongShort\n",
    "\n",
    "#pnl = pd.DataFrame(pnl)\n",
    "\n",
    "#pnl.rename(columns={0: 'PnL'}, inplace=True)\n",
    "\n",
    "#pnl_sum = pnl['PnL'].sum()\n",
    "\n",
    "# The advice column means \"Buy/Sell/Hold\" at the end of this day or\n",
    "#  at the beginning of the next day, since the market will be closed\n",
    "\n",
    "print(stock['Advice'])\n",
    "#print(f'PnL: {pnl_sum: 0.4f}')\n"
   ]
  },
  {
   "cell_type": "code",
   "execution_count": null,
   "metadata": {},
   "outputs": [],
   "source": [
    "# Import necessary libraries\n",
    "import pandas as pd\n",
    "from libs import connections, strategies\n",
    "\n",
    "# Instantiate variables\n",
    "ticker_symbol = 'GOOG'\n",
    "timeframe = '1D'\n",
    "num_intervals = 1000\n",
    "starting_date = '2020-11-17'\n",
    "ending_date = '2020-11-17'\n",
    "\n",
    "# Setup connection to Alpaca\n",
    "trader = connections.alpaca_trading_connection()\n",
    "\n",
    "# Get ticker data\n",
    "stock_df = trader.get_asset_history(ticker_symbol, timeframe, num_intervals, starting_date, ending_date).df\n",
    "print(stock_df['GOOG'])\n"
   ]
  },
  {
   "cell_type": "code",
   "execution_count": null,
   "metadata": {},
   "outputs": [],
   "source": [
    "# Get all active tradable asset symbols from Alpaca\n",
    "securities = trader.get_all_assets_to_trade()\n"
   ]
  },
  {
   "cell_type": "code",
   "execution_count": 80,
   "metadata": {},
   "outputs": [
    {
     "output_type": "error",
     "ename": "KeyError",
     "evalue": "0",
     "traceback": [
      "\u001b[1;31m---------------------------------------------------------------------------\u001b[0m",
      "\u001b[1;31mKeyError\u001b[0m                                  Traceback (most recent call last)",
      "\u001b[1;32m<ipython-input-80-3a15cce15ea5>\u001b[0m in \u001b[0;36m<module>\u001b[1;34m\u001b[0m\n\u001b[0;32m     15\u001b[0m \u001b[1;31m# Group tradeable symbols into groups\u001b[0m\u001b[1;33m\u001b[0m\u001b[1;33m\u001b[0m\u001b[1;33m\u001b[0m\u001b[0m\n\u001b[0;32m     16\u001b[0m \u001b[1;32mfor\u001b[0m \u001b[0msymbol\u001b[0m \u001b[1;32min\u001b[0m \u001b[0mtradable_symbols\u001b[0m\u001b[1;33m:\u001b[0m\u001b[1;33m\u001b[0m\u001b[1;33m\u001b[0m\u001b[0m\n\u001b[1;32m---> 17\u001b[1;33m     \u001b[0mhistorical_data\u001b[0m\u001b[1;33m[\u001b[0m\u001b[0mgroup\u001b[0m\u001b[1;33m]\u001b[0m\u001b[1;33m.\u001b[0m\u001b[0mappend\u001b[0m\u001b[1;33m(\u001b[0m\u001b[0msymbol\u001b[0m\u001b[1;33m)\u001b[0m\u001b[1;33m\u001b[0m\u001b[1;33m\u001b[0m\u001b[0m\n\u001b[0m\u001b[0;32m     18\u001b[0m     \u001b[0mcount\u001b[0m \u001b[1;33m+=\u001b[0m \u001b[1;36m1\u001b[0m\u001b[1;33m\u001b[0m\u001b[1;33m\u001b[0m\u001b[0m\n\u001b[0;32m     19\u001b[0m     \u001b[1;31m#if count % 500 == 0:\u001b[0m\u001b[1;33m\u001b[0m\u001b[1;33m\u001b[0m\u001b[1;33m\u001b[0m\u001b[0m\n",
      "\u001b[1;31mKeyError\u001b[0m: 0"
     ]
    }
   ],
   "source": [
    "from statsmodels.tsa.seasonal import seasonal_decompose\n",
    "\n",
    "tradable_symbols = []\n",
    "\n",
    "# Assign only tradable symbols to list\n",
    "for security in securities:\n",
    "    tradable_symbols.append(security.symbol)\n",
    "\n",
    "# Sort the symbols\n",
    "tradable_symbols = sorted(tradable_symbols)\n",
    "\n",
    "\n",
    "#historical_data = trader.get_asset_history(tradable_symbols, '1D', 1000, '2019-11-30', '2020-11-30')\n",
    "\n",
    "#seasonal_decompose()"
   ]
  },
  {
   "cell_type": "code",
   "execution_count": null,
   "metadata": {},
   "outputs": [],
   "source": []
  }
 ]
}