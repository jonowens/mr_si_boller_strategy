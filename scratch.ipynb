{
 "metadata": {
  "language_info": {
   "codemirror_mode": {
    "name": "ipython",
    "version": 3
   },
   "file_extension": ".py",
   "mimetype": "text/x-python",
   "name": "python",
   "nbconvert_exporter": "python",
   "pygments_lexer": "ipython3",
   "version": "3.7.7-final"
  },
  "orig_nbformat": 2,
  "kernelspec": {
   "name": "python3",
   "display_name": "Python 3.7.7 64-bit ('alpacaenv': conda)",
   "metadata": {
    "interpreter": {
     "hash": "6a6a73cfb8d5d2b61b0375d533efbc3906bb01b2f10ea48f8a8d12f081066e28"
    }
   }
  }
 },
 "nbformat": 4,
 "nbformat_minor": 2,
 "cells": [
  {
   "source": [
    "# Boller Mr. Si Strategy\n",
    "(Bollinger Bands, MACD, and RSI Strategy) Designed to pay the bills\n"
   ],
   "cell_type": "markdown",
   "metadata": {}
  },
  {
   "cell_type": "code",
   "execution_count": 12,
   "metadata": {},
   "outputs": [
    {
     "output_type": "stream",
     "name": "stdout",
     "text": [
      "time\n2020-09-01 00:00:00-04:00    No data\n2020-09-02 00:00:00-04:00        BUY\n2020-09-03 00:00:00-04:00       SELL\n2020-09-04 00:00:00-04:00       HOLD\n2020-09-08 00:00:00-04:00       HOLD\n2020-09-09 00:00:00-04:00       HOLD\n2020-09-10 00:00:00-04:00       HOLD\n2020-09-11 00:00:00-04:00       HOLD\n2020-09-14 00:00:00-04:00       HOLD\n2020-09-15 00:00:00-04:00       HOLD\n2020-09-16 00:00:00-04:00       HOLD\n2020-09-17 00:00:00-04:00       HOLD\n2020-09-18 00:00:00-04:00       HOLD\n2020-09-21 00:00:00-04:00       HOLD\n2020-09-22 00:00:00-04:00       HOLD\n2020-09-23 00:00:00-04:00       HOLD\n2020-09-24 00:00:00-04:00       HOLD\n2020-09-25 00:00:00-04:00       HOLD\n2020-09-28 00:00:00-04:00       HOLD\n2020-09-29 00:00:00-04:00       HOLD\n2020-09-30 00:00:00-04:00        BUY\n2020-10-01 00:00:00-04:00       HOLD\n2020-10-02 00:00:00-04:00       HOLD\n2020-10-05 00:00:00-04:00       HOLD\n2020-10-06 00:00:00-04:00       HOLD\n2020-10-07 00:00:00-04:00       HOLD\n2020-10-08 00:00:00-04:00       HOLD\n2020-10-09 00:00:00-04:00       HOLD\n2020-10-12 00:00:00-04:00       HOLD\n2020-10-13 00:00:00-04:00       HOLD\n2020-10-14 00:00:00-04:00       HOLD\n2020-10-15 00:00:00-04:00       HOLD\n2020-10-16 00:00:00-04:00       HOLD\n2020-10-19 00:00:00-04:00       HOLD\n2020-10-20 00:00:00-04:00       HOLD\n2020-10-21 00:00:00-04:00       HOLD\n2020-10-22 00:00:00-04:00       HOLD\n2020-10-23 00:00:00-04:00       HOLD\n2020-10-26 00:00:00-04:00       HOLD\n2020-10-27 00:00:00-04:00       HOLD\n2020-10-28 00:00:00-04:00       HOLD\n2020-10-29 00:00:00-04:00       SELL\n2020-10-30 00:00:00-04:00        BUY\n2020-11-02 00:00:00-05:00       HOLD\n2020-11-03 00:00:00-05:00       HOLD\n2020-11-04 00:00:00-05:00       HOLD\n2020-11-05 00:00:00-05:00       HOLD\n2020-11-06 00:00:00-05:00       HOLD\n2020-11-09 00:00:00-05:00       HOLD\n2020-11-10 00:00:00-05:00       HOLD\n2020-11-11 00:00:00-05:00       HOLD\n2020-11-12 00:00:00-05:00       HOLD\n2020-11-13 00:00:00-05:00       HOLD\n2020-11-16 00:00:00-05:00       HOLD\n2020-11-17 00:00:00-05:00       HOLD\nName: Advice, dtype: object\nPnL:  6.1000\n"
     ]
    }
   ],
   "source": [
    "import pandas as pd\n",
    "from stockstats import StockDataFrame as Sdf\n",
    "from libs import connections\n",
    "\n",
    "# Instantiate connection\n",
    "trader = connections.alpaca_trading_connection()\n",
    "# Asset ticker\n",
    "symbol = 'GOOG'\n",
    "# Date range of historical data\n",
    "start_date = pd.Timestamp(\"2020-09-01\", tz=\"America/New_York\").isoformat()\n",
    "end_date = pd.Timestamp(\"2020-11-17\", tz=\"America/New_York\").isoformat()\n",
    "# Capture profit and loss\n",
    "pnl = []\n",
    "buy_price = 0\n",
    "sell_price = 0\n",
    "\n",
    "# Get ticker data\n",
    "stock_df = trader.get_asset_history(symbol, '1D', start_date, end_date).df\n",
    "# Sort columns for stockdataframe\n",
    "data = stock_df[symbol][['open', 'close', 'high', 'low', 'volume']]\n",
    "\n",
    "# Change from pandas dataframe to stockdataframe\n",
    "stock  = Sdf.retype(data)\n",
    "\n",
    "# Signal line\n",
    "signal = stock['macds']\n",
    "\n",
    "# The MACD that need to cross the signal line to give you a Buy/Sell signal\n",
    "macd   = stock['macd']\n",
    "\n",
    "# Since you need at least two days in the for loop\n",
    "listLongShort = [\"No data\"]\n",
    "\n",
    "for i in range(1, len(signal)):\n",
    "    # If the MACD crosses the signal line upward\n",
    "    if macd[i] > signal[i] and macd[i - 1] <= signal[i - 1]:\n",
    "        listLongShort.append(\"BUY\")\n",
    "        buy_price = stock['close'][i]\n",
    "    # The other way around\n",
    "    elif macd[i] < signal[i] and macd[i - 1] >= signal[i - 1]:\n",
    "        listLongShort.append(\"SELL\")\n",
    "        # Calculate profit or loss and capture\n",
    "        sell_price = stock['close'][i]\n",
    "        if (buy_price != 0):\n",
    "            pnl.append(sell_price - buy_price)\n",
    "    # Do nothing if not crossed\n",
    "    else:\n",
    "        listLongShort.append(\"HOLD\")\n",
    "\n",
    "stock['Advice'] = listLongShort\n",
    "\n",
    "pnl = pd.DataFrame(pnl)\n",
    "pnl.rename(columns={0: 'PnL'}, inplace=True)\n",
    "\n",
    "pnl_sum = pnl['PnL'].sum()\n",
    "\n",
    "# The advice column means \"Buy/Sell/Hold\" at the end of this day or\n",
    "#  at the beginning of the next day, since the market will be closed\n",
    "\n",
    "print(stock['Advice'])\n",
    "print(f'PnL: {pnl_sum: 0.4f}')\n"
   ]
  },
  {
   "cell_type": "code",
   "execution_count": 11,
   "metadata": {},
   "outputs": [
    {
     "output_type": "stream",
     "name": "stdout",
     "text": [
      "                              open  high   low    close  volume\ntime                                                           \n2020-11-17 00:00:00-05:00  1776.94  1785  1767  1769.85  814921\n"
     ]
    }
   ],
   "source": [
    "# Import necessary libraries\n",
    "import pandas as pd\n",
    "from libs import connections, strategies\n",
    "\n",
    "# Instantiate variables\n",
    "ticker_symbol = 'GOOG'\n",
    "timeframe = '1D'\n",
    "num_intervals = 1000\n",
    "starting_date = '2020-11-17'\n",
    "ending_date = '2020-11-17'\n",
    "\n",
    "# Setup connection to Alpaca\n",
    "trader = connections.alpaca_trading_connection()\n",
    "\n",
    "# Get ticker data\n",
    "stock_df = trader.get_asset_history(ticker_symbol, timeframe, num_intervals, starting_date, ending_date).df\n",
    "print(stock_df['GOOG'])\n"
   ]
  },
  {
   "cell_type": "code",
   "execution_count": null,
   "metadata": {},
   "outputs": [],
   "source": []
  }
 ]
}